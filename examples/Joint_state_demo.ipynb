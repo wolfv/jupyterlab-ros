{
 "cells": [
  {
   "cell_type": "markdown",
   "metadata": {},
   "source": [
    "# Joint State Demo\n",
    "\n",
    ">This is an example of how we can quickly build a standalone web app for our robot using ipywidgets and Voilà.\n",
    "\n",
    "Make sure there is a robot published, you can launch panda demo with the following command:\n",
    "\n",
    "`roslaunch {Notebook Example Folder}/launch/panda_demo.launch`"
   ]
  },
  {
   "cell_type": "code",
   "execution_count": 1,
   "metadata": {},
   "outputs": [
    {
     "name": "stdout",
     "output_type": "stream",
     "text": [
      "ERROR: Unknown node(s):\n",
      " * /joint_state_publisher\n"
     ]
    }
   ],
   "source": [
    "!rosnode kill joint_state_publisher"
   ]
  },
  {
   "cell_type": "code",
   "execution_count": 2,
   "metadata": {},
   "outputs": [],
   "source": [
    "import random\n",
    "\n",
    "import ipywidgets as wid\n",
    "import rospy as rp\n",
    "from sensor_msgs.msg import JointState\n",
    "\n",
    "from ipywidgets import FloatSlider, Layout, Button, Box, FloatText, Textarea, Dropdown, Label, IntSlider"
   ]
  },
  {
   "cell_type": "code",
   "execution_count": 3,
   "metadata": {},
   "outputs": [],
   "source": [
    "from joint_state_publisher import JointStatePublisher"
   ]
  },
  {
   "cell_type": "code",
   "execution_count": 4,
   "metadata": {},
   "outputs": [],
   "source": [
    "jsp = JointStatePublisher()"
   ]
  },
  {
   "cell_type": "code",
   "execution_count": 5,
   "metadata": {},
   "outputs": [],
   "source": [
    "rp.init_node('supernode')\n",
    "msg = JointState()"
   ]
  },
  {
   "cell_type": "code",
   "execution_count": 6,
   "metadata": {},
   "outputs": [],
   "source": [
    "from joint_state_publisher import JointStatePublisher\n",
    "msg_joint = JointStatePublisher()"
   ]
  },
  {
   "cell_type": "code",
   "execution_count": 7,
   "metadata": {},
   "outputs": [],
   "source": [
    "#name = [\"shoulder_pan_joint\",\"shoulder_lift_joint\",\"elbow_joint\",'wirst_1_joint','wirst_2_joint','wirst_3_joint']\n",
    "\n",
    "joint_state_dict = {}\n",
    "for i in jsp.free_joints:\n",
    "    minPos = jsp.free_joints[i]['min']\n",
    "    maxPos = jsp.free_joints[i]['max']\n",
    "    step = (maxPos - minPos) / 100\n",
    "    joint_state_dict[i] = FloatSlider(min = minPos, max = maxPos, step = step)\n",
    "    \n",
    "# joint_state_dict"
   ]
  },
  {
   "cell_type": "code",
   "execution_count": 8,
   "metadata": {},
   "outputs": [],
   "source": [
    "pub = rp.Publisher('/joint_states', JointState, queue_size=10)\n",
    "def on_sent(b):\n",
    "    msg.header.stamp = rp.Time.now()\n",
    "    msg.name = [str(i) for i in joint_state_dict]\n",
    "    msg.position = [joint_state_dict[i].value for i in joint_state_dict]\n",
    "    pub.publish(msg)\n",
    "\n",
    "for key, value in joint_state_dict.items():\n",
    "    value.observe(on_sent)"
   ]
  },
  {
   "cell_type": "code",
   "execution_count": 9,
   "metadata": {},
   "outputs": [],
   "source": [
    "randomize = Button(description='Randomize')\n",
    "\n",
    "def on_randomize(randomize):\n",
    "    pub = rp.Publisher('/joint_states', JointState, queue_size=10)\n",
    "    for i in joint_state_dict:\n",
    "        msg.name = [str(i)]\n",
    "        msg.position = [random.uniform(joint_state_dict[i].min, joint_state_dict[i].max)]\n",
    "        joint_state_dict[i].value = msg.position[0]\n",
    "        pub.publish(msg)    \n",
    "        \n",
    "randomize.on_click(on_randomize)"
   ]
  },
  {
   "cell_type": "code",
   "execution_count": 10,
   "metadata": {},
   "outputs": [],
   "source": [
    "center = Button(description='Center')\n",
    "\n",
    "def on_center(b):\n",
    "    pub = rp.Publisher('/joint_states', JointState, queue_size=10)\n",
    "    for i in joint_state_dict:\n",
    "        msg.name = [str(i)]\n",
    "        msg.position = [0]\n",
    "        joint_state_dict[i].value = 0\n",
    "        pub.publish(msg)\n",
    "\n",
    "center.on_click(on_center)"
   ]
  },
  {
   "cell_type": "markdown",
   "metadata": {},
   "source": [
    "In this case, we are using Zethus to simulate the robot but you can connect a real robot to ros and use this form to control it.\n",
    "\n",
    "This is just a preview but you could launch a server with the standalone app using the command `voila joint_state_demo.ipynb`"
   ]
  },
  {
   "cell_type": "code",
   "execution_count": 11,
   "metadata": {},
   "outputs": [
    {
     "data": {
      "application/vnd.jupyter.widget-view+json": {
       "model_id": "36cd679d51a548108bd45081e9c06ef5",
       "version_major": 2,
       "version_minor": 0
      },
      "text/plain": [
       "Box(children=(Box(children=(Label(value='front_left_hip_x'), FloatSlider(value=0.0, max=0.7853981633974483, mi…"
      ]
     },
     "metadata": {},
     "output_type": "display_data"
    }
   ],
   "source": [
    "form_item_layout = Layout(\n",
    "    display='flex',\n",
    "    flex_flow='row',\n",
    "    justify_content='space-between'\n",
    ")\n",
    "\n",
    "form_items1 = [Box([Label(value= key), joint_state_dict[key]]) for key in jsp.free_joints]\n",
    "form_items1 += [Box([center]), Box([randomize])]\n",
    "\n",
    "form = Box(form_items1, layout=Layout(\n",
    "    display='flex',\n",
    "    flex_flow='column',\n",
    "    border='solid 2px',\n",
    "    align_items='stretch',\n",
    "    #width='50%',\n",
    "    padding='10px'\n",
    "))\n",
    "\n",
    "form"
   ]
  },
  {
   "cell_type": "code",
   "execution_count": 12,
   "metadata": {},
   "outputs": [],
   "source": [
    "!export ROS_MASTER_URI=http://10.0.25.81:11311"
   ]
  },
  {
   "cell_type": "code",
   "execution_count": 14,
   "metadata": {
    "collapsed": true,
    "jupyter": {
     "outputs_hidden": true
    }
   },
   "outputs": [
    {
     "ename": "ROSException",
     "evalue": "rospy.init_node() has already been called with different arguments: ('supernode', ['/home/ubuntu/miniconda3/envs/roslab/lib/python3.6/site-packages/ipykernel_launcher.py', '-f', '/home/ubuntu/.local/share/jupyter/runtime/kernel-fdb08e8f-9e44-4b80-9dec-f965194a9a1d.json'], False, None, False, False)",
     "output_type": "error",
     "traceback": [
      "\u001b[0;31m---------------------------------------------------------------------------\u001b[0m",
      "\u001b[0;31mROSException\u001b[0m                              Traceback (most recent call last)",
      "\u001b[0;32m<ipython-input-14-6a16d0936dbe>\u001b[0m in \u001b[0;36m<module>\u001b[0;34m\u001b[0m\n\u001b[1;32m      1\u001b[0m \u001b[0;32mimport\u001b[0m \u001b[0mrospy\u001b[0m\u001b[0;34m\u001b[0m\u001b[0;34m\u001b[0m\u001b[0m\n\u001b[0;32m----> 2\u001b[0;31m \u001b[0mrospy\u001b[0m\u001b[0;34m.\u001b[0m\u001b[0minit_node\u001b[0m\u001b[0;34m(\u001b[0m\u001b[0;34m\"testnode\"\u001b[0m\u001b[0;34m)\u001b[0m\u001b[0;34m\u001b[0m\u001b[0;34m\u001b[0m\u001b[0m\n\u001b[0m",
      "\u001b[0;32m~/miniconda3/envs/roslab/lib/python3.6/site-packages/rospy/client.py\u001b[0m in \u001b[0;36minit_node\u001b[0;34m(name, argv, anonymous, log_level, disable_rostime, disable_rosout, disable_signals, xmlrpc_port, tcpros_port)\u001b[0m\n\u001b[1;32m    272\u001b[0m     \u001b[0;32mif\u001b[0m \u001b[0m_init_node_args\u001b[0m\u001b[0;34m:\u001b[0m\u001b[0;34m\u001b[0m\u001b[0;34m\u001b[0m\u001b[0m\n\u001b[1;32m    273\u001b[0m         \u001b[0;32mif\u001b[0m \u001b[0m_init_node_args\u001b[0m \u001b[0;34m!=\u001b[0m \u001b[0;34m(\u001b[0m\u001b[0mname\u001b[0m\u001b[0;34m,\u001b[0m \u001b[0margv\u001b[0m\u001b[0;34m,\u001b[0m \u001b[0manonymous\u001b[0m\u001b[0;34m,\u001b[0m \u001b[0mlog_level\u001b[0m\u001b[0;34m,\u001b[0m \u001b[0mdisable_rostime\u001b[0m\u001b[0;34m,\u001b[0m \u001b[0mdisable_signals\u001b[0m\u001b[0;34m)\u001b[0m\u001b[0;34m:\u001b[0m\u001b[0;34m\u001b[0m\u001b[0;34m\u001b[0m\u001b[0m\n\u001b[0;32m--> 274\u001b[0;31m             \u001b[0;32mraise\u001b[0m \u001b[0mrospy\u001b[0m\u001b[0;34m.\u001b[0m\u001b[0mexceptions\u001b[0m\u001b[0;34m.\u001b[0m\u001b[0mROSException\u001b[0m\u001b[0;34m(\u001b[0m\u001b[0;34m\"rospy.init_node() has already been called with different arguments: \"\u001b[0m\u001b[0;34m+\u001b[0m\u001b[0mstr\u001b[0m\u001b[0;34m(\u001b[0m\u001b[0m_init_node_args\u001b[0m\u001b[0;34m)\u001b[0m\u001b[0;34m)\u001b[0m\u001b[0;34m\u001b[0m\u001b[0;34m\u001b[0m\u001b[0m\n\u001b[0m\u001b[1;32m    275\u001b[0m         \u001b[0;32melse\u001b[0m\u001b[0;34m:\u001b[0m\u001b[0;34m\u001b[0m\u001b[0;34m\u001b[0m\u001b[0m\n\u001b[1;32m    276\u001b[0m             \u001b[0;32mreturn\u001b[0m \u001b[0;31m#already initialized\u001b[0m\u001b[0;34m\u001b[0m\u001b[0;34m\u001b[0m\u001b[0m\n",
      "\u001b[0;31mROSException\u001b[0m: rospy.init_node() has already been called with different arguments: ('supernode', ['/home/ubuntu/miniconda3/envs/roslab/lib/python3.6/site-packages/ipykernel_launcher.py', '-f', '/home/ubuntu/.local/share/jupyter/runtime/kernel-fdb08e8f-9e44-4b80-9dec-f965194a9a1d.json'], False, None, False, False)"
     ]
    }
   ],
   "source": [
    "import rospy\n",
    "rospy.init_node(\"testnode\")"
   ]
  },
  {
   "cell_type": "code",
   "execution_count": null,
   "metadata": {},
   "outputs": [],
   "source": []
  }
 ],
 "metadata": {
  "kernelspec": {
   "display_name": "Python 3",
   "language": "python",
   "name": "python3"
  },
  "language_info": {
   "codemirror_mode": {
    "name": "ipython",
    "version": 3
   },
   "file_extension": ".py",
   "mimetype": "text/x-python",
   "name": "python",
   "nbconvert_exporter": "python",
   "pygments_lexer": "ipython3",
   "version": "3.8.6"
  }
 },
 "nbformat": 4,
 "nbformat_minor": 4
}
